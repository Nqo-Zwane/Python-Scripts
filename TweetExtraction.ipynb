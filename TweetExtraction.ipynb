{
 "cells": [
  {
   "cell_type": "markdown",
   "metadata": {},
   "source": [
    "Tweet extraction "
   ]
  },
  {
   "cell_type": "code",
   "execution_count": null,
   "metadata": {},
   "outputs": [],
   "source": [
    "%pip install snscrape"
   ]
  },
  {
   "cell_type": "code",
   "execution_count": null,
   "metadata": {},
   "outputs": [],
   "source": [
    "%pip install pandas"
   ]
  },
  {
   "cell_type": "code",
   "execution_count": null,
   "metadata": {},
   "outputs": [],
   "source": [
    "%pip install matplotlib"
   ]
  },
  {
   "cell_type": "code",
   "execution_count": null,
   "metadata": {},
   "outputs": [],
   "source": [
    "%pip install nltk"
   ]
  },
  {
   "cell_type": "code",
   "execution_count": null,
   "metadata": {},
   "outputs": [],
   "source": [
    "import snscrape.modules.twitter as sntwitter\n",
    "import pandas as pd\n",
    "import matplotlib.pyplot as plt\n",
    "# import seaborn as sns\n",
    "import nltk\n",
    "from nltk.corpus import stopwords\n",
    "import re\n",
    "# import spacy\n",
    "# from spacy import displacy\n",
    "# from textblob import TextBlob\n",
    "# from collections import Counter\n",
    "import numpy as np\n",
    "\n",
    "\n",
    "# nlp = spacy.load('en_core_web_sm')"
   ]
  },
  {
   "cell_type": "code",
   "execution_count": null,
   "metadata": {},
   "outputs": [],
   "source": [
    "#variables to be used below\n",
    "maxTweets = 10000000\n",
    "cities = [\"Witbank\", \"Nelspruit\", \"Limpopo\", \"Polokwane\", \"Johannesburg\", \"Pretoria\", \"Port Elizabeth\", \"Cape Town\", \"Freestate\", \"Durban\", \"Pietermaritzburg\", \"Bloemfontein\", \"Kimberley\"]\n",
    "count2 = 0\n",
    "\n",
    "# Creating list to append tweet data to\n",
    "tweets_list = []\n",
    "\n",
    "# Using TwitterSearchScraper to scrape data and append tweets to list\n",
    "\n",
    "for i,tweet in enumerate(sntwitter.TwitterSearchScraper(\"Goliath Gaming since:2022-01-01 until:2023-01-01 near:Gauteng within:50km\").get_items()):\n",
    "    if i>maxTweets:\n",
    "        break\n",
    "    tweets_list.append([ tweet.id, tweet.date , tweet.user.username,  tweet.user.location, tweet.content, tweet.url, tweet.lang, tweet.coordinates, tweet.place])\n",
    "    \n",
    "  \n"
   ]
  },
  {
   "cell_type": "code",
   "execution_count": null,
   "metadata": {},
   "outputs": [],
   "source": [
    "tweets_list"
   ]
  },
  {
   "cell_type": "code",
   "execution_count": null,
   "metadata": {},
   "outputs": [],
   "source": [
    "\n",
    "#Creating a dataframe from the tweets list above\n",
    "\n",
    "\n",
    "df = pd.DataFrame(tweets_list, columns=['Tweet_Id','Datetime', 'Username' ,'Location', 'Text','Link','Language', 'Coordinates', 'Place'])\n",
    "\n",
    "# Display first 5000 entries from dataframe\n",
    "df.head(5000)"
   ]
  },
  {
   "cell_type": "code",
   "execution_count": null,
   "metadata": {},
   "outputs": [],
   "source": [
    "stopwords = nltk.download('stopwords')"
   ]
  },
  {
   "cell_type": "code",
   "execution_count": null,
   "metadata": {},
   "outputs": [],
   "source": [
    "#clean the tweets and add a new column of the clean data\n",
    "#Remove stopwords\n",
    "\n",
    "def cleaner(tweet):\n",
    "    tweet = re.sub(\"@[A-Za-z0-9]+\",\"\",tweet) #Remove @ sign\n",
    "    tweet = re.sub(r\"(?:\\@|http?\\://|https?\\://|www)\\S+\", \"\", tweet) #Remove http links\n",
    "    tweet = \" \".join(tweet.split())\n",
    "    #tweet = ''.join(c for c in tweet if c not in emoji.UNICODE_EMOJI['en']) #Remove Emojis\n",
    "    tweet = tweet.replace(\"#\", \"\").replace(\"_\", \" \") #Remove hashtag sign but keep the text\n",
    "    # stop_words = set(stopwords('english'))\n",
    "    # tweet=[word for word in tweet.split() if not word in stop_words]\n",
    "    # tweet=\" \".join(word for word in tweet)\n",
    "    return tweet\n",
    "\n",
    "\n",
    "df['clean'] = df['Text'].map(lambda x: cleaner(x))\n",
    "    \n"
   ]
  },
  {
   "cell_type": "code",
   "execution_count": null,
   "metadata": {},
   "outputs": [],
   "source": [
    "# write the dataframe into a csv \n",
    "df.to_csv('Goliathgaming.csv')"
   ]
  }
 ],
 "metadata": {
  "kernelspec": {
   "display_name": "Python 3.10.7 64-bit",
   "language": "python",
   "name": "python3"
  },
  "language_info": {
   "codemirror_mode": {
    "name": "ipython",
    "version": 3
   },
   "file_extension": ".py",
   "mimetype": "text/x-python",
   "name": "python",
   "nbconvert_exporter": "python",
   "pygments_lexer": "ipython3",
   "version": "3.10.7"
  },
  "orig_nbformat": 4,
  "vscode": {
   "interpreter": {
    "hash": "7b16d70df2d2255d66bf35796f80d1a0c1c1cc6721f2efa4f874aef43170f8bf"
   }
  }
 },
 "nbformat": 4,
 "nbformat_minor": 2
}
